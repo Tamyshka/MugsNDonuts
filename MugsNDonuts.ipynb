{
 "cells": [
  {
   "cell_type": "markdown",
   "metadata": {},
   "source": [
    "# Would you like some donuts?\n",
    "Hi there! My name is Tamara and I want to be a part of Think, Make, Start this April. Currently, I'm studying Robotics, Cognition, Intelligence in my second semester. In my free time I like to take on creative (coding) projects, hang out with friends, and help robots take over the world. Wait. Not that, hiking, I like to hike in the alps. <br>\n",
    "As I scrolled through past projects, I noticed that most of them made use of some sort of data or image processing. With the following lines I would like to demonstrate some of my knowledge in this field and show you why I would be a valuable asset in one of the upcoming projects. <br>\n",
    "Without any further ado, let's start!"
   ]
  },
  {
   "cell_type": "markdown",
   "metadata": {},
   "source": [
    "## Data set generator\n",
    "To keep things simple, I created two classes; mugs and donuts. The images were extracted from the Google Image Search using a Python script and manually postprocessed, i.e. I deleted the irrelevant pictures. <br>\n",
    "First, the image data is loaded and stored in an array. The whole dataset contains 1122 instances with 565 mugs and 557 donuts. <br>\n",
    "Note that to speed up the calculations I choose to read the images as greyscales."
   ]
  },
  {
   "cell_type": "code",
   "execution_count": 2,
   "metadata": {},
   "outputs": [
    {
     "data": {
      "image/png": "[encoded data removed]",
      "text/plain": [
       "<Figure size 432x288 with 1 Axes>"
      ]
     },
     "metadata": {
      "needs_background": "light"
     },
     "output_type": "display_data"
    }
   ],
   "source": [
    "import numpy as np\n",
    "import matplotlib.pyplot as plt\n",
    "import os\n",
    "import cv2\n",
    "from tqdm import tqdm\n",
    "import random\n",
    "\n",
    "DATADIR = \"data\"\n",
    "\n",
    "CATEGORIES = [\"mug\", \"donut\"]\n",
    "\n",
    "for category in CATEGORIES: \n",
    "    path = os.path.join(DATADIR,category)  \n",
    "    for img in os.listdir(path):  \n",
    "        img_array = cv2.imread(os.path.join(path,img) ,cv2.IMREAD_GRAYSCALE)  \n",
    "        plt.imshow(img_array, cmap='gray')    \n",
    "        plt.show()  \n",
    "\n",
    "        break  \n",
    "    break"
   ]
  },
  {
   "cell_type": "code",
   "execution_count": 11,
   "metadata": {},
   "outputs": [
    {
     "name": "stdout",
     "output_type": "stream",
     "text": [
      "Array values =\n",
      "[[255 255 255 ... 255 255 255]\n",
      " [255 255 255 ... 255 255 255]\n",
      " [255 255 255 ... 255 255 255]\n",
      " ...\n",
      " [255 255 255 ... 255 255 255]\n",
      " [255 255 255 ... 255 255 255]\n",
      " [255 255 255 ... 255 255 255]]\n",
      "The array has the shape of: (750, 750)\n"
     ]
    }
   ],
   "source": [
    "print('Array values =')\n",
    "print(img_array)\n",
    "print('The array has the shape of:',img_array.shape)"
   ]
  },
  {
   "cell_type": "markdown",
   "metadata": {},
   "source": [
    "## Pre-processing data\n",
    "Secondly, I rescaled all images to the uniform IMG_SIZE and shuffled the data set. If the data would remained in its previous state, the train and validation sets might be different or the network might simply learn the datasplit instead of the image features. <br>\n",
    "The images are stored in a matrix X and the labels in a vector y."
   ]
  },
  {
   "cell_type": "code",
   "execution_count": 4,
   "metadata": {},
   "outputs": [
    {
     "data": {
      "image/png": "[encoded data removed]",
      "text/plain": [
       "<Figure size 432x288 with 1 Axes>"
      ]
     },
     "metadata": {
      "needs_background": "light"
     },
     "output_type": "display_data"
    }
   ],
   "source": [
    "IMG_SIZE = 50\n",
    "\n",
    "new_array = cv2.resize(img_array, (IMG_SIZE, IMG_SIZE))\n",
    "plt.imshow(new_array, cmap='gray')\n",
    "plt.show()"
   ]
  },
  {
   "cell_type": "code",
   "execution_count": 5,
   "metadata": {
    "scrolled": true
   },
   "outputs": [
    {
     "name": "stdout",
     "output_type": "stream",
     "text": [
      "This data set contains 1122 samples.\n"
     ]
    }
   ],
   "source": [
    "full_dataset = []\n",
    "\n",
    "def create_full_dataset():\n",
    "    for category in CATEGORIES: \n",
    "\n",
    "        path = os.path.join(DATADIR,category)  \n",
    "        class_num = CATEGORIES.index(category)  # assign classification labels 0=mug 1=donut\n",
    "\n",
    "        for img in os.listdir(path):  \n",
    "            try:\n",
    "                img_array = cv2.imread(os.path.join(path,img) ,cv2.IMREAD_GRAYSCALE)  \n",
    "                new_array = cv2.resize(img_array, (IMG_SIZE, IMG_SIZE)) \n",
    "                full_dataset.append([new_array, class_num])\n",
    "            except Exception as e:  \n",
    "                pass\n",
    "\n",
    "create_full_dataset()\n",
    "random.shuffle(full_dataset)\n",
    "\n",
    "print('This data set contains', len(full_dataset), 'samples.')"
   ]
  },
  {
   "cell_type": "code",
   "execution_count": 14,
   "metadata": {
    "scrolled": true
   },
   "outputs": [
    {
     "name": "stdout",
     "output_type": "stream",
     "text": [
      "Labels of the last 10 samples:\n",
      "0\n",
      "1\n",
      "1\n",
      "1\n",
      "1\n",
      "1\n",
      "1\n",
      "1\n",
      "1\n",
      "1\n"
     ]
    }
   ],
   "source": [
    "print('Labels of the last 10 samples:')\n",
    "for sample in full_dataset[:10]:\n",
    "    print(sample[1])"
   ]
  },
  {
   "cell_type": "code",
   "execution_count": 7,
   "metadata": {},
   "outputs": [],
   "source": [
    "X = []\n",
    "y = []\n",
    "\n",
    "for features,label in full_dataset:\n",
    "    X.append(features)\n",
    "    y.append(label)\n",
    "\n",
    "# print(X[0].reshape(-1, IMG_SIZE, IMG_SIZE, 1))\n",
    "\n",
    "X = np.array(X).reshape(-1, IMG_SIZE, IMG_SIZE, 1)"
   ]
  },
  {
   "cell_type": "markdown",
   "metadata": {},
   "source": [
    "## Classifying mugs and donuts with a CNN\n",
    "This is where the magic happens. <br>\n",
    "In the next paragraph I defined a model using the Keras API from tensorflow. While it's very straight forward and perfect for fast prototyping, it might not always be the best option for intricate applications. <br>\n",
    "In this case however, it is more than sufficient."
   ]
  },
  {
   "cell_type": "code",
   "execution_count": 8,
   "metadata": {},
   "outputs": [
    {
     "name": "stdout",
     "output_type": "stream",
     "text": [
      "Train on 785 samples, validate on 337 samples\n",
      "Epoch 1/20\n",
      "785/785 [==============================] - 22s 27ms/step - loss: 2.8728 - acc: 0.5287 - val_loss: 1.8819 - val_acc: 0.5341\n",
      "Epoch 2/20\n",
      "785/785 [==============================] - 21s 26ms/step - loss: 1.5744 - acc: 0.6471 - val_loss: 1.3195 - val_acc: 0.6647\n",
      "Epoch 3/20\n",
      "785/785 [==============================] - 21s 26ms/step - loss: 1.1773 - acc: 0.7185 - val_loss: 1.0930 - val_acc: 0.7240\n",
      "Epoch 4/20\n",
      "785/785 [==============================] - 21s 26ms/step - loss: 1.0019 - acc: 0.7631 - val_loss: 1.0729 - val_acc: 0.6647\n",
      "Epoch 5/20\n",
      "785/785 [==============================] - 20s 26ms/step - loss: 0.9016 - acc: 0.7873 - val_loss: 0.8647 - val_acc: 0.7774\n",
      "Epoch 6/20\n",
      "785/785 [==============================] - 20s 26ms/step - loss: 0.8157 - acc: 0.7924 - val_loss: 0.8288 - val_acc: 0.7656\n",
      "Epoch 7/20\n",
      "785/785 [==============================] - 20s 26ms/step - loss: 0.8038 - acc: 0.7822 - val_loss: 0.9010 - val_acc: 0.7003\n",
      "Epoch 8/20\n",
      "785/785 [==============================] - 20s 26ms/step - loss: 0.7534 - acc: 0.7822 - val_loss: 0.7797 - val_acc: 0.7537\n",
      "Epoch 9/20\n",
      "785/785 [==============================] - 20s 26ms/step - loss: 0.6410 - acc: 0.8369 - val_loss: 0.6718 - val_acc: 0.7923\n",
      "Epoch 10/20\n",
      "785/785 [==============================] - 21s 26ms/step - loss: 0.5721 - acc: 0.8408 - val_loss: 0.6359 - val_acc: 0.7893\n",
      "Epoch 11/20\n",
      "785/785 [==============================] - 20s 26ms/step - loss: 0.5677 - acc: 0.8408 - val_loss: 0.6253 - val_acc: 0.7893\n",
      "Epoch 12/20\n",
      "785/785 [==============================] - 20s 26ms/step - loss: 0.4954 - acc: 0.8803 - val_loss: 0.5754 - val_acc: 0.8071\n",
      "Epoch 13/20\n",
      "785/785 [==============================] - 21s 26ms/step - loss: 0.4570 - acc: 0.8955 - val_loss: 0.7327 - val_acc: 0.7240\n",
      "Epoch 14/20\n",
      "785/785 [==============================] - 20s 26ms/step - loss: 0.5133 - acc: 0.8484 - val_loss: 0.5720 - val_acc: 0.7893\n",
      "Epoch 15/20\n",
      "785/785 [==============================] - 20s 26ms/step - loss: 0.4367 - acc: 0.8803 - val_loss: 0.5215 - val_acc: 0.8309\n",
      "Epoch 16/20\n",
      "785/785 [==============================] - 20s 26ms/step - loss: 0.3844 - acc: 0.9134 - val_loss: 0.5547 - val_acc: 0.8012\n",
      "Epoch 17/20\n",
      "785/785 [==============================] - 20s 26ms/step - loss: 0.3490 - acc: 0.9134 - val_loss: 0.5257 - val_acc: 0.8131\n",
      "Epoch 18/20\n",
      "785/785 [==============================] - 20s 26ms/step - loss: 0.3342 - acc: 0.9210 - val_loss: 0.4648 - val_acc: 0.8249\n",
      "Epoch 19/20\n",
      "785/785 [==============================] - 20s 26ms/step - loss: 0.3016 - acc: 0.9325 - val_loss: 0.9419 - val_acc: 0.6855\n",
      "Epoch 20/20\n",
      "785/785 [==============================] - 20s 26ms/step - loss: 0.4208 - acc: 0.8510 - val_loss: 0.4968 - val_acc: 0.7982\n"
     ]
    }
   ],
   "source": [
    "import tensorflow as tf\n",
    "from tensorflow.keras import regularizers\n",
    "from tensorflow.keras.models import Sequential\n",
    "from tensorflow.keras.layers import Dense, Dropout, Activation, Flatten\n",
    "from tensorflow.keras.layers import Conv2D, MaxPooling2D\n",
    "\n",
    "X = X/255.0\n",
    "\n",
    "##########################################################################\n",
    "#                     DEFINING THE MODEL STRUCTURE                       #\n",
    "##########################################################################\n",
    "\n",
    "model = Sequential()\n",
    "\n",
    "#model.add(Conv2D(256, (3, 3), input_shape=X.shape[1:]))\n",
    "model.add(Conv2D(256, (3, 3), input_shape=X.shape[1:], padding='valid', kernel_initializer='glorot_uniform', \n",
    "                bias_initializer='zeros', kernel_regularizer=regularizers.l2(0.01)))\n",
    "model.add(Activation('relu'))\n",
    "model.add(MaxPooling2D(pool_size=(2, 2)))\n",
    "\n",
    "model.add(Conv2D(256, (3, 3), padding='valid', kernel_initializer='glorot_uniform', bias_initializer='zeros', \n",
    "                 kernel_regularizer=regularizers.l2(0.01)))\n",
    "model.add(Activation('relu'))\n",
    "model.add(MaxPooling2D(pool_size=(2, 2)))\n",
    "\n",
    "model.add(Flatten())  # to convert 3D feature maps into a 1D feature vector\n",
    "\n",
    "model.add(Dense(64))\n",
    "\n",
    "model.add(Dense(1))\n",
    "model.add(Activation('sigmoid'))\n",
    "\n",
    "\n",
    "##########################################################################\n",
    "#                         COMPILE AND TRAIN MODEL                        #\n",
    "##########################################################################\n",
    "\n",
    "model.compile(loss='binary_crossentropy',\n",
    "              optimizer='adam',\n",
    "              metrics=['accuracy'])\n",
    "\n",
    "history=model.fit(X, y, batch_size=60, epochs=20, validation_split=0.3)\n",
    "#print('Final testing accuracy:', training_accuracy)\n",
    "#print('Final validation accuracy:', validation_accuracy)"
   ]
  },
  {
   "cell_type": "markdown",
   "metadata": {},
   "source": [
    "## Evaluate the training\n",
    "Now it's time to check how the loss progresses over time and how the training and validation accuracies fair against each other."
   ]
  },
  {
   "cell_type": "code",
   "execution_count": 9,
   "metadata": {},
   "outputs": [
    {
     "name": "stdout",
     "output_type": "stream",
     "text": [
      "dict_keys(['val_loss', 'val_acc', 'loss', 'acc'])\n"
     ]
    },
    {
     "data": {
      "image/png": "[encoded data removed]",
      "text/plain": [
       "<Figure size 432x288 with 1 Axes>"
      ]
     },
     "metadata": {
      "needs_background": "light"
     },
     "output_type": "display_data"
    },
    {
     "data": {
      "image/png": "[encoded data removed]",
      "text/plain": [
       "<Figure size 432x288 with 1 Axes>"
      ]
     },
     "metadata": {
      "needs_background": "light"
     },
     "output_type": "display_data"
    }
   ],
   "source": [
    "# Plot the loss function and train / validation accuracies\n",
    "print(history.history.keys())\n",
    "#  \"Accuracy\"\n",
    "plt.plot(history.history['acc'])\n",
    "plt.plot(history.history['val_acc'])\n",
    "plt.title('model accuracy')\n",
    "plt.ylabel('accuracy')\n",
    "plt.xlabel('epoch')\n",
    "plt.legend(['train', 'validation'], loc='upper left')\n",
    "plt.show()\n",
    "# \"Loss\"\n",
    "plt.plot(history.history['loss'])\n",
    "plt.plot(history.history['val_loss'])\n",
    "plt.title('model loss')\n",
    "plt.ylabel('loss')\n",
    "plt.xlabel('epoch')\n",
    "plt.legend(['train', 'validation'], loc='upper left')\n",
    "plt.show()\n"
   ]
  },
  {
   "cell_type": "markdown",
   "metadata": {},
   "source": [
    "## Conclusion\n",
    "We oserve that while the model loss decreases and the accuracy increases, the  validation graph is still very \"noisy\". This noise indicates that the model is not very robust, i.e. the data is not conclusive enough or the learned features don't describe the image characteristics too well. <br>\n",
    "Possible improvemnts could be achieved by training a model ensamble with different hyperparameter settings or including the RGB-colour channel into the image data. <br>\n",
    "I hope you enjoyed my little demo and we get the chance to meet in person! "
   ]
  }
 ],
 "metadata": {
  "kernelspec": {
   "display_name": "Python [conda env:MLcourse]",
   "language": "python",
   "name": "conda-env-MLcourse-py"
  },
  "language_info": {
   "codemirror_mode": {
    "name": "ipython",
    "version": 3
   },
   "file_extension": ".py",
   "mimetype": "text/x-python",
   "name": "python",
   "nbconvert_exporter": "python",
   "pygments_lexer": "ipython3",
   "version": "3.6.7"
  }
 },
 "nbformat": 4,
 "nbformat_minor": 2
}
